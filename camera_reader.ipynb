{
 "cells": [
  {
   "cell_type": "code",
   "execution_count": 1,
   "metadata": {
    "collapsed": true
   },
   "outputs": [],
   "source": [
    "from IPython.display import display\n",
    "from PIL import Image\n"
   ]
  },
  {
   "cell_type": "code",
   "execution_count": 3,
   "metadata": {
    "collapsed": false
   },
   "outputs": [],
   "source": [
    "import os\n",
    "SLACK_ID = os.environ['SLACK_ID']\n",
    "from slacker import Slacker\n",
    "slack = Slacker(SLACK_ID)\n",
    "def slack_log(message):\n",
    "    try:\n",
    "        slack.chat.post_message('#kent_test', message)\n",
    "    except:\n",
    "        print \"slack connection error\"\n",
    "def slack_img(path):\n",
    "    slack.files.upload(path,channels=\"#kent_test\")"
   ]
  },
  {
   "cell_type": "code",
   "execution_count": 4,
   "metadata": {
    "collapsed": false
   },
   "outputs": [],
   "source": [
    "\n"
   ]
  },
  {
   "cell_type": "code",
   "execution_count": 7,
   "metadata": {
    "collapsed": false
   },
   "outputs": [
    {
     "name": "stdout",
     "output_type": "stream",
     "text": [
      "1/1 [==============================] - 0s\n",
      "[[ 0.62165397  0.378346  ]]\n",
      "1/1 [==============================] - 0s\n",
      "Boss is approaching\n"
     ]
    },
    {
     "ename": "error",
     "evalue": "/tmp/opencv20150506-38415-u2kidu/opencv-2.4.11/modules/imgproc/src/color.cpp:3739: error: (-215) scn == 3 || scn == 4 in function cvtColor\n",
     "output_type": "error",
     "traceback": [
      "\u001b[0;31m---------------------------------------------------------------------------\u001b[0m",
      "\u001b[0;31merror\u001b[0m                                     Traceback (most recent call last)",
      "\u001b[0;32m<ipython-input-7-594708928c59>\u001b[0m in \u001b[0;36m<module>\u001b[0;34m()\u001b[0m\n\u001b[1;32m     21\u001b[0m \u001b[0;34m\u001b[0m\u001b[0m\n\u001b[1;32m     22\u001b[0m         \u001b[0;31m# グレースケール変換\u001b[0m\u001b[0;34m\u001b[0m\u001b[0;34m\u001b[0m\u001b[0m\n\u001b[0;32m---> 23\u001b[0;31m         \u001b[0mframe_gray\u001b[0m \u001b[0;34m=\u001b[0m \u001b[0mcv2\u001b[0m\u001b[0;34m.\u001b[0m\u001b[0mcvtColor\u001b[0m\u001b[0;34m(\u001b[0m\u001b[0mframe\u001b[0m\u001b[0;34m,\u001b[0m \u001b[0mcv2\u001b[0m\u001b[0;34m.\u001b[0m\u001b[0mCOLOR_BGR2GRAY\u001b[0m\u001b[0;34m)\u001b[0m\u001b[0;34m\u001b[0m\u001b[0m\n\u001b[0m\u001b[1;32m     24\u001b[0m \u001b[0;34m\u001b[0m\u001b[0m\n\u001b[1;32m     25\u001b[0m         \u001b[0;31m# カスケード分類器の特徴量を取得する\u001b[0m\u001b[0;34m\u001b[0m\u001b[0;34m\u001b[0m\u001b[0m\n",
      "\u001b[0;31merror\u001b[0m: /tmp/opencv20150506-38415-u2kidu/opencv-2.4.11/modules/imgproc/src/color.cpp:3739: error: (-215) scn == 3 || scn == 4 in function cvtColor\n"
     ]
    }
   ],
   "source": [
    "from IPython.display import clear_output\n",
    "from matplotlib.pyplot import imshow\n",
    "%matplotlib inline  \n",
    "\n",
    "import time\n",
    "\n",
    "# -*- coding:utf-8 -*-\n",
    "import cv2\n",
    "\n",
    "from boss_train import Model\n",
    "# from image_show import show_image\n",
    "\n",
    "\n",
    "if __name__ == '__main__':\n",
    "    cap = cv2.VideoCapture(0)\n",
    "    cascade_path = \"/usr/local/opt/opencv/share/OpenCV/haarcascades/haarcascade_frontalface_default.xml\"\n",
    "    model = Model()\n",
    "    model.load()\n",
    "    while True:\n",
    "        _, frame = cap.read()\n",
    "\n",
    "        # グレースケール変換\n",
    "        frame_gray = cv2.cvtColor(frame, cv2.COLOR_BGR2GRAY)\n",
    "\n",
    "        # カスケード分類器の特徴量を取得する\n",
    "        cascade = cv2.CascadeClassifier(cascade_path)\n",
    "\n",
    "        # 物体認識（顔認識）の実行\n",
    "        facerect = cascade.detectMultiScale(frame_gray, scaleFactor=1.2, minNeighbors=3, minSize=(10, 10))\n",
    "        #facerect = cascade.detectMultiScale(frame_gray, scaleFactor=1.01, minNeighbors=3, minSize=(3, 3))\n",
    "        if len(facerect) > 0:\n",
    "            print('face detected')\n",
    "            color = (255, 255, 255)  # 白\n",
    "            for rect in facerect:\n",
    "                clear_output()\n",
    "                # 検出した顔を囲む矩形の作成\n",
    "                #cv2.rectangle(frame, tuple(rect[0:2]), tuple(rect[0:2] + rect[2:4]), color, thickness=2)\n",
    "\n",
    "                x, y = rect[0:2]\n",
    "                width, height = rect[2:4]\n",
    "                image = frame[y - 10: y + height, x: x + width]\n",
    "\n",
    "                result = model.predict(image)\n",
    "                if result == 0:  # boss\n",
    "                    print('Boss is approaching')\n",
    "                    slack_log('Boss is approaching')\n",
    "                    im = Image.fromarray(image)\n",
    "                    im.save(\"./temp.jpg\")\n",
    "                    slack_img(\"./temp.jpg\")\n",
    "                else:\n",
    "                    print('Not boss')\n",
    "\n",
    "\n",
    "            time.sleep(2)\n",
    "    #キャプチャを終了\n",
    "    cap.release()\n",
    "    cv2.destroyAllWindows()\n"
   ]
  }
 ],
 "metadata": {
  "kernelspec": {
   "display_name": "Python 2",
   "language": "python",
   "name": "python2"
  },
  "language_info": {
   "codemirror_mode": {
    "name": "ipython",
    "version": 2
   },
   "file_extension": ".py",
   "mimetype": "text/x-python",
   "name": "python",
   "nbconvert_exporter": "python",
   "pygments_lexer": "ipython2",
   "version": "2.7.10"
  }
 },
 "nbformat": 4,
 "nbformat_minor": 1
}
