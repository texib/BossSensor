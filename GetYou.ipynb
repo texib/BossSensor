{
 "cells": [
  {
   "cell_type": "code",
   "execution_count": 1,
   "metadata": {
    "collapsed": false
   },
   "outputs": [],
   "source": [
    "import time\n",
    "# Captures a single image from the camera and returns it in PIL format\n",
    "def get_image(camera):\n",
    "     # read is the easiest way to get a full image out of a VideoCapture object.\n",
    "     retval, im = camera.read()\n",
    "     return im\n",
    "def getImage():\n",
    "    import cv2\n",
    "\n",
    "    # Camera 0 is the integrated web cam on my netbook\n",
    "    camera_port = 0\n",
    "\n",
    "    #Number of frames to throw away while the camera adjusts to light levels\n",
    "    ramp_frames = 30\n",
    "\n",
    "    # Now we can initialize the camera capture object with the cv2.VideoCapture class.\n",
    "    # All it needs is the index to a camera port.\n",
    "    camera = cv2.VideoCapture(camera_port)\n",
    "\n",
    "\n",
    "\n",
    "    # Ramp the camera - these frames will be discarded and are only used to allow v4l2\n",
    "    # to adjust light levels, if necessary\n",
    "    for i in xrange(ramp_frames):\n",
    "     temp = get_image(camera)\n",
    "    print(\"Taking image...\")\n",
    "    # Take the actual image we want to keep\n",
    "    camera_capture = get_image(camera)\n",
    "    file = \"./data/boss/me{}.png\".format(time.time())\n",
    "    # A nice feature of the imwrite method is that it will automatically choose the\n",
    "    # correct format based on the file extension you provide. Convenient!\n",
    "    cv2.imwrite(file, camera_capture)\n",
    "\n",
    "    # You'll want to release the camera, otherwise you won't be able to create a new\n",
    "    # capture object until your script exits\n",
    "    del(camera)"
   ]
  },
  {
   "cell_type": "code",
   "execution_count": 2,
   "metadata": {
    "collapsed": false
   },
   "outputs": [
    {
     "name": "stdout",
     "output_type": "stream",
     "text": [
      "Taking image...\n",
      "Taking image...\n",
      "Taking image...\n",
      "Taking image...\n",
      "Taking image...\n",
      "Taking image...\n",
      "Taking image...\n",
      "Taking image...\n",
      "Taking image...\n",
      "Taking image...\n",
      "Taking image...\n",
      "Taking image...\n",
      "Taking image...\n",
      "Taking image...\n",
      "Taking image...\n",
      "Taking image...\n",
      "Taking image...\n",
      "Taking image...\n",
      "Taking image...\n",
      "Taking image...\n",
      "Taking image...\n",
      "Taking image...\n",
      "Taking image...\n",
      "Taking image...\n",
      "Taking image...\n",
      "Taking image...\n",
      "Taking image...\n",
      "Taking image...\n",
      "Taking image...\n",
      "Taking image...\n",
      "Taking image...\n",
      "Taking image...\n",
      "Taking image...\n",
      "Taking image...\n",
      "Taking image...\n",
      "Taking image...\n",
      "Taking image...\n",
      "Taking image...\n",
      "Taking image...\n",
      "Taking image...\n",
      "Taking image...\n",
      "Taking image...\n",
      "Taking image...\n",
      "Taking image...\n",
      "Taking image...\n",
      "Taking image...\n",
      "Taking image...\n",
      "Taking image...\n"
     ]
    },
    {
     "ename": "KeyboardInterrupt",
     "evalue": "",
     "output_type": "error",
     "traceback": [
      "\u001b[0;31m---------------------------------------------------------------------------\u001b[0m",
      "\u001b[0;31mKeyboardInterrupt\u001b[0m                         Traceback (most recent call last)",
      "\u001b[0;32m<ipython-input-2-f4cd256d6641>\u001b[0m in \u001b[0;36m<module>\u001b[0;34m()\u001b[0m\n\u001b[1;32m      1\u001b[0m \u001b[0;32mwhile\u001b[0m\u001b[0;34m(\u001b[0m\u001b[0mTrue\u001b[0m\u001b[0;34m)\u001b[0m\u001b[0;34m:\u001b[0m\u001b[0;34m\u001b[0m\u001b[0m\n\u001b[0;32m----> 2\u001b[0;31m     \u001b[0mgetImage\u001b[0m\u001b[0;34m(\u001b[0m\u001b[0;34m)\u001b[0m\u001b[0;34m\u001b[0m\u001b[0m\n\u001b[0m",
      "\u001b[0;32m<ipython-input-1-95e72d5ad3d8>\u001b[0m in \u001b[0;36mgetImage\u001b[0;34m()\u001b[0m\n\u001b[1;32m     23\u001b[0m     \u001b[0;31m# to adjust light levels, if necessary\u001b[0m\u001b[0;34m\u001b[0m\u001b[0;34m\u001b[0m\u001b[0m\n\u001b[1;32m     24\u001b[0m     \u001b[0;32mfor\u001b[0m \u001b[0mi\u001b[0m \u001b[0;32min\u001b[0m \u001b[0mxrange\u001b[0m\u001b[0;34m(\u001b[0m\u001b[0mramp_frames\u001b[0m\u001b[0;34m)\u001b[0m\u001b[0;34m:\u001b[0m\u001b[0;34m\u001b[0m\u001b[0m\n\u001b[0;32m---> 25\u001b[0;31m      \u001b[0mtemp\u001b[0m \u001b[0;34m=\u001b[0m \u001b[0mget_image\u001b[0m\u001b[0;34m(\u001b[0m\u001b[0mcamera\u001b[0m\u001b[0;34m)\u001b[0m\u001b[0;34m\u001b[0m\u001b[0m\n\u001b[0m\u001b[1;32m     26\u001b[0m     \u001b[0;32mprint\u001b[0m\u001b[0;34m(\u001b[0m\u001b[0;34m\"Taking image...\"\u001b[0m\u001b[0;34m)\u001b[0m\u001b[0;34m\u001b[0m\u001b[0m\n\u001b[1;32m     27\u001b[0m     \u001b[0;31m# Take the actual image we want to keep\u001b[0m\u001b[0;34m\u001b[0m\u001b[0;34m\u001b[0m\u001b[0m\n",
      "\u001b[0;32m<ipython-input-1-95e72d5ad3d8>\u001b[0m in \u001b[0;36mget_image\u001b[0;34m(camera)\u001b[0m\n\u001b[1;32m      3\u001b[0m \u001b[0;32mdef\u001b[0m \u001b[0mget_image\u001b[0m\u001b[0;34m(\u001b[0m\u001b[0mcamera\u001b[0m\u001b[0;34m)\u001b[0m\u001b[0;34m:\u001b[0m\u001b[0;34m\u001b[0m\u001b[0m\n\u001b[1;32m      4\u001b[0m      \u001b[0;31m# read is the easiest way to get a full image out of a VideoCapture object.\u001b[0m\u001b[0;34m\u001b[0m\u001b[0;34m\u001b[0m\u001b[0m\n\u001b[0;32m----> 5\u001b[0;31m      \u001b[0mretval\u001b[0m\u001b[0;34m,\u001b[0m \u001b[0mim\u001b[0m \u001b[0;34m=\u001b[0m \u001b[0mcamera\u001b[0m\u001b[0;34m.\u001b[0m\u001b[0mread\u001b[0m\u001b[0;34m(\u001b[0m\u001b[0;34m)\u001b[0m\u001b[0;34m\u001b[0m\u001b[0m\n\u001b[0m\u001b[1;32m      6\u001b[0m      \u001b[0;32mreturn\u001b[0m \u001b[0mim\u001b[0m\u001b[0;34m\u001b[0m\u001b[0m\n\u001b[1;32m      7\u001b[0m \u001b[0;32mdef\u001b[0m \u001b[0mgetImage\u001b[0m\u001b[0;34m(\u001b[0m\u001b[0;34m)\u001b[0m\u001b[0;34m:\u001b[0m\u001b[0;34m\u001b[0m\u001b[0m\n",
      "\u001b[0;31mKeyboardInterrupt\u001b[0m: "
     ]
    }
   ],
   "source": [
    "# 拍攝 50 張 Training Data\n",
    "for _ in range(50):\n",
    "    getImage()"
   ]
  },
  {
   "cell_type": "code",
   "execution_count": null,
   "metadata": {
    "collapsed": true
   },
   "outputs": [],
   "source": []
  }
 ],
 "metadata": {
  "kernelspec": {
   "display_name": "Python 2",
   "language": "python",
   "name": "python2"
  },
  "language_info": {
   "codemirror_mode": {
    "name": "ipython",
    "version": 2
   },
   "file_extension": ".py",
   "mimetype": "text/x-python",
   "name": "python",
   "nbconvert_exporter": "python",
   "pygments_lexer": "ipython2",
   "version": "2.7.10"
  }
 },
 "nbformat": 4,
 "nbformat_minor": 1
}
